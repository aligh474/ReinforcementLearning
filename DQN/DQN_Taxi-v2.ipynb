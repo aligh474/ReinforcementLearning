{
 "cells": [
  {
   "cell_type": "code",
   "execution_count": 10,
   "metadata": {},
   "outputs": [],
   "source": [
    "import numpy as np\n",
    "import random\n",
    "from IPython.display import clear_output\n",
    "from collections import deque\n",
    "\n",
    "\n",
    "import gym\n",
    "\n",
    "from tensorflow.keras import Model, Sequential\n",
    "from tensorflow.keras.layers import Dense, Embedding, Reshape\n",
    "from tensorflow.keras.optimizers import Adam"
   ]
  },
  {
   "cell_type": "markdown",
   "metadata": {},
   "source": [
    "## without any library, simple deque as Replay buffer."
   ]
  },
  {
   "cell_type": "code",
   "execution_count": 11,
   "metadata": {},
   "outputs": [
    {
     "name": "stdout",
     "output_type": "stream",
     "text": [
      "+---------+\n",
      "|\u001b[34;1mR\u001b[0m: | : :\u001b[35mG\u001b[0m|\n",
      "| : : : : |\n",
      "| : : : : |\n",
      "| | : | : |\n",
      "|Y| : |\u001b[43mB\u001b[0m: |\n",
      "+---------+\n",
      "\n",
      "Number of states: 500\n",
      "Number of actions: 6\n"
     ]
    }
   ],
   "source": [
    "enviroment = gym.make(\"Taxi-v2\").env\n",
    "enviroment.render()\n",
    "\n",
    "print('Number of states: {}'.format(enviroment.observation_space.n))\n",
    "print('Number of actions: {}'.format(enviroment.action_space.n))"
   ]
  },
  {
   "cell_type": "markdown",
   "metadata": {},
   "source": [
    "# Agent"
   ]
  },
  {
   "cell_type": "code",
   "execution_count": 12,
   "metadata": {},
   "outputs": [],
   "source": [
    "class Agent:\n",
    "    def __init__(self, enviroment, optimizer):\n",
    "        self.expirience_replay = deque(maxlen = 2000)\n",
    "        self.gamma = 0.9\n",
    "        self.epsilon = 0.1\n",
    "        self.action_size = enviroment.action_space.n\n",
    "        self.state_size = enviroment.observation_space.n\n",
    "        self._optimizer = optimizer\n",
    "        self.q_network = self._build_compile_model()\n",
    "        self.target_network = self._build_compile_model()\n",
    "        self.set_target_model_weights()\n",
    "        \n",
    "    def exprience(self, state, action, reward, next_state, terminated):\n",
    "        self.expirience_replay.append([state, action, reward, next_state, terminated])\n",
    "        \n",
    "    def _build_compile_model(self):\n",
    "        model =Sequential()\n",
    "        model.add(Embedding(self.state_size, 10, input_length=1))\n",
    "        model.add(Reshape((10,)))\n",
    "        model.add(Dense(50,activation='relu'))\n",
    "        model.add(Dense(50,activation='relu'))\n",
    "        model.add(Dense(self.action_size,activation='linear'))\n",
    "        \n",
    "        model.compile(loss='mse', optimizer=self._optimizer)\n",
    "        return model\n",
    "        \n",
    "    def set_target_model_weights(self):\n",
    "        self.target_network.set_weights(self.q_network.get_weights())\n",
    "        \n",
    "    def get_action(self, state):\n",
    "        if np.random.rand() < self.epsilon:\n",
    "            return enviroment.action_space.sample()\n",
    "        else:\n",
    "            Q_value = self.q_network(state)\n",
    "            return np.argmax(Q_value[0])\n",
    "        \n",
    "    def train(self, batch_size):\n",
    "        samples = random.sample(self.expirience_replay,batch_size)\n",
    "        for state, action, reward, next_state, terminated in samples:\n",
    "            Q = self.q_network.predict(state)\n",
    "            \n",
    "            if terminated:\n",
    "                Q[0][action] = reward\n",
    "            else:\n",
    "                t = self.target_network.predict(next_state)\n",
    "                Q[0][action] = reward + self.gamma * np.amax(t)\n",
    "            self.q_network.fit(state, Q, epochs=1, verbose=0)   "
   ]
  },
  {
   "cell_type": "code",
   "execution_count": 13,
   "metadata": {},
   "outputs": [
    {
     "name": "stdout",
     "output_type": "stream",
     "text": [
      "Model: \"sequential_2\"\n",
      "_________________________________________________________________\n",
      "Layer (type)                 Output Shape              Param #   \n",
      "=================================================================\n",
      "embedding_2 (Embedding)      (None, 1, 10)             5000      \n",
      "_________________________________________________________________\n",
      "reshape_2 (Reshape)          (None, 10)                0         \n",
      "_________________________________________________________________\n",
      "dense_6 (Dense)              (None, 50)                550       \n",
      "_________________________________________________________________\n",
      "dense_7 (Dense)              (None, 50)                2550      \n",
      "_________________________________________________________________\n",
      "dense_8 (Dense)              (None, 6)                 306       \n",
      "=================================================================\n",
      "Total params: 8,406\n",
      "Trainable params: 8,406\n",
      "Non-trainable params: 0\n",
      "_________________________________________________________________\n"
     ]
    }
   ],
   "source": [
    "optimizer = Adam(learning_rate=0.01)\n",
    "agent = Agent(enviroment, optimizer)\n",
    "\n",
    "batch_size = 32\n",
    "num_of_episodes = 10\n",
    "timesteps_per_episode = 512\n",
    "agent.q_network.summary()"
   ]
  },
  {
   "cell_type": "code",
   "execution_count": null,
   "metadata": {
    "scrolled": true
   },
   "outputs": [],
   "source": [
    "for e in range(0, num_of_episodes):\n",
    "    state = enviroment.reset()\n",
    "    state = np.reshape(state, [1, 1])\n",
    "    \n",
    "    # Initialize variables\n",
    "    reward = 0\n",
    "    terminated = False\n",
    "    \n",
    "    \n",
    "    for timestep in range(timesteps_per_episode):\n",
    "        \n",
    "        action = agent.get_action(state)\n",
    "          \n",
    "        next_state, reward, terminated, info = enviroment.step(action) \n",
    "        next_state = np.reshape(next_state, [1, 1])\n",
    "        agent.exprience(state, action, reward, next_state, terminated)\n",
    "        \n",
    "        state = next_state\n",
    "        \n",
    "        if terminated:\n",
    "            agent.alighn_target_model()\n",
    "            break\n",
    "            \n",
    "        if len(agent.expirience_replay) > batch_size:\n",
    "            agent.train(batch_size)\n",
    "        \n",
    "    \n",
    "\n",
    "    if (e + 1) % 10 == 0:\n",
    "        print(\"**********************************\")\n",
    "        print(\"Episode: {}\".format(e + 1))\n",
    "        enviroment.render()\n",
    "        print(\"**********************************\")"
   ]
  },
  {
   "cell_type": "code",
   "execution_count": 9,
   "metadata": {},
   "outputs": [
    {
     "name": "stdout",
     "output_type": "stream",
     "text": [
      "+---------+\n",
      "|\u001b[35mR\u001b[0m: | : :G|\n",
      "| : : : : |\n",
      "| : : : : |\n",
      "| | : | :\u001b[43m \u001b[0m|\n",
      "|\u001b[34;1mY\u001b[0m| : |B: |\n",
      "+---------+\n",
      "  (Dropoff)\n",
      "62\n"
     ]
    },
    {
     "ename": "KeyboardInterrupt",
     "evalue": "",
     "output_type": "error",
     "traceback": [
      "\u001b[0;31m---------------------------------------------------------------------------\u001b[0m",
      "\u001b[0;31mKeyboardInterrupt\u001b[0m                         Traceback (most recent call last)",
      "\u001b[0;32m<ipython-input-9-b96b5d8bb3d5>\u001b[0m in \u001b[0;36m<module>\u001b[0;34m\u001b[0m\n\u001b[1;32m     22\u001b[0m             \u001b[0menviroment\u001b[0m\u001b[0;34m.\u001b[0m\u001b[0mrender\u001b[0m\u001b[0;34m(\u001b[0m\u001b[0;34m)\u001b[0m\u001b[0;34m\u001b[0m\u001b[0;34m\u001b[0m\u001b[0m\n\u001b[1;32m     23\u001b[0m             \u001b[0mprint\u001b[0m\u001b[0;34m(\u001b[0m\u001b[0mtimestep\u001b[0m\u001b[0;34m)\u001b[0m\u001b[0;34m\u001b[0m\u001b[0;34m\u001b[0m\u001b[0m\n\u001b[0;32m---> 24\u001b[0;31m             \u001b[0msleep\u001b[0m\u001b[0;34m(\u001b[0m\u001b[0;36m0.1\u001b[0m\u001b[0;34m)\u001b[0m\u001b[0;34m\u001b[0m\u001b[0;34m\u001b[0m\u001b[0m\n\u001b[0m",
      "\u001b[0;31mKeyboardInterrupt\u001b[0m: "
     ]
    }
   ],
   "source": [
    "from time import sleep\n",
    "for e in range(0, num_of_episodes):\n",
    "    state = enviroment.reset()\n",
    "    state = np.reshape(state, [1, 1])\n",
    "    \n",
    "    # Initialize variables\n",
    "    reward = 0\n",
    "    terminated = False\n",
    "    \n",
    "    \n",
    "    for timestep in range(timesteps_per_episode):\n",
    "        \n",
    "        action = agent.get_action(state)\n",
    "        next_state, reward, terminated, info = enviroment.step(action) \n",
    "        next_state = np.reshape(next_state, [1, 1])\n",
    "        \n",
    "        if terminated:\n",
    "            break\n",
    "        else:\n",
    "            state = next_state\n",
    "            clear_output(wait=True)\n",
    "            enviroment.render()\n",
    "            print(timestep)\n",
    "            sleep(0.1)"
   ]
  },
  {
   "cell_type": "code",
   "execution_count": null,
   "metadata": {},
   "outputs": [],
   "source": []
  }
 ],
 "metadata": {
  "kernelspec": {
   "display_name": "Python 3",
   "language": "python",
   "name": "python3"
  },
  "language_info": {
   "codemirror_mode": {
    "name": "ipython",
    "version": 3
   },
   "file_extension": ".py",
   "mimetype": "text/x-python",
   "name": "python",
   "nbconvert_exporter": "python",
   "pygments_lexer": "ipython3",
   "version": "3.6.9"
  }
 },
 "nbformat": 4,
 "nbformat_minor": 4
}
