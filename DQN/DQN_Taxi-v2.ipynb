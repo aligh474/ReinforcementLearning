{
 "cells": [
  {
   "cell_type": "code",
   "execution_count": null,
   "metadata": {},
   "outputs": [],
   "source": [
    "import numpy as np\n",
    "import random\n",
    "from IPython.display import clear_output\n",
    "from collections import deque\n",
    "import progressbar\n",
    "\n",
    "import gym\n",
    "\n",
    "from tensorflow.keras import Model, Sequential\n",
    "from tensorflow.keras.layers import Dense, Embedding, Reshape\n",
    "from tensorflow.keras.optimizers import Adam"
   ]
  },
  {
   "cell_type": "markdown",
   "metadata": {},
   "source": [
    "## without any library, simple deque as Replay buffer."
   ]
  },
  {
   "cell_type": "code",
   "execution_count": null,
   "metadata": {},
   "outputs": [],
   "source": [
    "enviroment = gym.make(\"Taxi-v2\").env\n",
    "enviroment.render()\n",
    "\n",
    "print('Number of states: {}'.format(enviroment.observation_space.n))\n",
    "print('Number of actions: {}'.format(enviroment.action_space.n))"
   ]
  },
  {
   "cell_type": "markdown",
   "metadata": {},
   "source": [
    "# Agent"
   ]
  },
  {
   "cell_type": "code",
   "execution_count": null,
   "metadata": {},
   "outputs": [],
   "source": [
    "class Agent:\n",
    "    def __init__(self, enviroment, optimizer):\n",
    "        \n",
    "    def exprience(self, state, action, reward, next_state, terminated):\n",
    "        \n",
    "    def _build_compile_model(self):\n",
    "        \n",
    "    def set_target_model_weights(self):\n",
    "        \n",
    "    def get_action(self, state):\n",
    "        \n",
    "    def train(self, batch_size):"
   ]
  },
  {
   "cell_type": "code",
   "execution_count": null,
   "metadata": {},
   "outputs": [],
   "source": [
    "optimizer = Adam(learning_rate=0.01)\n",
    "agent = Agent(enviroment, optimizer)\n",
    "\n",
    "batch_size = 32\n",
    "num_of_episodes = 100\n",
    "timesteps_per_episode = 1024\n",
    "#agent.q_network.summary()"
   ]
  },
  {
   "cell_type": "code",
   "execution_count": null,
   "metadata": {},
   "outputs": [],
   "source": [
    "for e in range(0, num_of_episodes):\n",
    "    \n",
    "    for timestep in range(timesteps_per_episode):"
   ]
  }
 ],
 "metadata": {
  "kernelspec": {
   "display_name": "Python 3",
   "language": "python",
   "name": "python3"
  },
  "language_info": {
   "codemirror_mode": {
    "name": "ipython",
    "version": 3
   },
   "file_extension": ".py",
   "mimetype": "text/x-python",
   "name": "python",
   "nbconvert_exporter": "python",
   "pygments_lexer": "ipython3",
   "version": "3.8.3"
  }
 },
 "nbformat": 4,
 "nbformat_minor": 4
}
