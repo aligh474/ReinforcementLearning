{
 "cells": [
  {
   "cell_type": "code",
   "execution_count": 9,
   "metadata": {},
   "outputs": [],
   "source": [
    "import gym\n",
    "import matplotlib.pyplot as plt\n",
    "import numpy as np"
   ]
  },
  {
   "cell_type": "code",
   "execution_count": 10,
   "metadata": {},
   "outputs": [
    {
     "name": "stderr",
     "output_type": "stream",
     "text": [
      "[2021-03-08 20:17:36,300] Making new env: Acrobot-v1\n"
     ]
    }
   ],
   "source": [
    "env = gym.make('Acrobot-v1')\n",
    "\n",
    "action_space = [0, 1, 2]"
   ]
  },
  {
   "cell_type": "markdown",
   "metadata": {},
   "source": [
    "The state consists of the sin() and cos() of the two rotational joint\n",
    "angles and the joint angular velocities :\n",
    "[cos(theta1) sin(theta1) cos(theta2) sin(theta2) thetaDot1 thetaDot2]."
   ]
  },
  {
   "cell_type": "code",
   "execution_count": 11,
   "metadata": {},
   "outputs": [],
   "source": [
    "theta_space = np.linspace(-1, 1, 10)\n",
    "theta_dot_space = np.linspace(-10, 10, 10)\n",
    "\n",
    "def get_state(observation):\n",
    "    cos_theta1, sin_theta1, cos_theta2, sin_theta2, theta1_dot, theta2_dot = observation\n",
    "    \n",
    "    c_th1 = int(np.digitize(cos_theta1, theta_space))\n",
    "    s_th1 = int(np.digitize(sin_theta1, theta_space))\n",
    "    c_th2 = int(np.digitize(cos_theta2, theta_space))\n",
    "    s_th2 = int(np.digitize(sin_theta2, theta_space))\n",
    "    th1_dot = int(np.digitize(theta1_dot, theta_dot_space))\n",
    "    th2_dot = int(np.digitize(theta2_dot, theta_dot_space))\n",
    "\n",
    "    return (c_th1, s_th2, c_th2, s_th2, th1_dot, th2_dot)"
   ]
  },
  {
   "cell_type": "code",
   "execution_count": 12,
   "metadata": {},
   "outputs": [],
   "source": [
    "def maxAction(Q, state, actions=[0, 1, 2]):\n",
    "    values = np.array([Q[state,a] for a in actions])\n",
    "    action = np.argmax(values)\n",
    "\n",
    "    return action"
   ]
  },
  {
   "cell_type": "code",
   "execution_count": 17,
   "metadata": {},
   "outputs": [],
   "source": [
    "n_games = 10000\n",
    "alpha = 0.1\n",
    "gamma = 0.99\n",
    "eps = 0.9\n",
    "\n",
    "states=[]\n",
    "for c1 in range(11):\n",
    "    for s1 in range(11):\n",
    "        for c2 in range(11):\n",
    "            for s2 in range(11):\n",
    "                for dot1 in range(11):\n",
    "                    for dot2 in range(11):\n",
    "                        states.append((c1, s1, c2, s2, dot1, dot2))\n",
    "                        \n",
    "Q = {}\n",
    "for state in states:\n",
    "    for action in action_space:\n",
    "        Q[state, action] = 0"
   ]
  },
  {
   "cell_type": "code",
   "execution_count": 18,
   "metadata": {},
   "outputs": [
    {
     "name": "stdout",
     "output_type": "stream",
     "text": [
      "episode  0 score  0 eps 0.9\n",
      "episode  100 score  -421.0 eps 0.8600000000000044\n",
      "episode  200 score  -419.0 eps 0.8200000000000088\n",
      "episode  300 score  -361.0 eps 0.7800000000000132\n",
      "episode  400 score  -221.0 eps 0.7400000000000176\n",
      "episode  500 score  -327.0 eps 0.700000000000022\n",
      "episode  600 score  -209.0 eps 0.6600000000000265\n",
      "episode  700 score  -269.0 eps 0.6200000000000309\n",
      "episode  800 score  -326.0 eps 0.5800000000000353\n",
      "episode  900 score  -339.0 eps 0.5400000000000397\n",
      "episode  1000 score  -329.0 eps 0.5000000000000441\n",
      "episode  1100 score  -351.0 eps 0.46000000000004293\n",
      "episode  1200 score  -161.0 eps 0.4200000000000418\n",
      "episode  1300 score  -224.0 eps 0.38000000000004064\n",
      "episode  1400 score  -179.0 eps 0.3400000000000395\n",
      "episode  1500 score  -287.0 eps 0.30000000000003835\n",
      "episode  1600 score  -113.0 eps 0.2600000000000372\n",
      "episode  1700 score  -290.0 eps 0.22000000000003606\n",
      "episode  1800 score  -138.0 eps 0.1800000000000349\n",
      "episode  1900 score  -190.0 eps 0.14000000000003376\n",
      "episode  2000 score  -284.0 eps 0.10000000000003349\n",
      "episode  2100 score  -271.0 eps 0.060000000000033735\n",
      "episode  2200 score  -212.0 eps 0.020000000000033876\n",
      "episode  2300 score  -229.0 eps 0.01\n",
      "episode  2400 score  -251.0 eps 0.01\n",
      "episode  2500 score  -157.0 eps 0.01\n",
      "episode  2600 score  -150.0 eps 0.01\n",
      "episode  2700 score  -169.0 eps 0.01\n",
      "episode  2800 score  -257.0 eps 0.01\n",
      "episode  2900 score  -281.0 eps 0.01\n",
      "episode  3000 score  -134.0 eps 0.01\n",
      "episode  3100 score  -259.0 eps 0.01\n",
      "episode  3200 score  -165.0 eps 0.01\n",
      "episode  3300 score  -401.0 eps 0.01\n",
      "episode  3400 score  -275.0 eps 0.01\n",
      "episode  3500 score  -191.0 eps 0.01\n",
      "episode  3600 score  -146.0 eps 0.01\n",
      "episode  3700 score  -128.0 eps 0.01\n",
      "episode  3800 score  -170.0 eps 0.01\n",
      "episode  3900 score  -188.0 eps 0.01\n",
      "episode  4000 score  -217.0 eps 0.01\n",
      "episode  4100 score  -321.0 eps 0.01\n",
      "episode  4200 score  -129.0 eps 0.01\n",
      "episode  4300 score  -102.0 eps 0.01\n",
      "episode  4400 score  -171.0 eps 0.01\n",
      "episode  4500 score  -114.0 eps 0.01\n",
      "episode  4600 score  -183.0 eps 0.01\n",
      "episode  4700 score  -171.0 eps 0.01\n",
      "episode  4800 score  -140.0 eps 0.01\n",
      "episode  4900 score  -115.0 eps 0.01\n",
      "episode  5000 score  -200.0 eps 0.01\n",
      "episode  5100 score  -166.0 eps 0.01\n",
      "episode  5200 score  -156.0 eps 0.01\n",
      "episode  5300 score  -177.0 eps 0.01\n",
      "episode  5400 score  -162.0 eps 0.01\n",
      "episode  5500 score  -167.0 eps 0.01\n",
      "episode  5600 score  -137.0 eps 0.01\n",
      "episode  5700 score  -262.0 eps 0.01\n",
      "episode  5800 score  -144.0 eps 0.01\n",
      "episode  5900 score  -207.0 eps 0.01\n",
      "episode  6000 score  -139.0 eps 0.01\n",
      "episode  6100 score  -167.0 eps 0.01\n",
      "episode  6200 score  -338.0 eps 0.01\n",
      "episode  6300 score  -180.0 eps 0.01\n",
      "episode  6400 score  -162.0 eps 0.01\n",
      "episode  6500 score  -198.0 eps 0.01\n",
      "episode  6600 score  -146.0 eps 0.01\n",
      "episode  6700 score  -181.0 eps 0.01\n",
      "episode  6800 score  -162.0 eps 0.01\n",
      "episode  6900 score  -102.0 eps 0.01\n",
      "episode  7000 score  -91.0 eps 0.01\n",
      "episode  7100 score  -194.0 eps 0.01\n",
      "episode  7200 score  -233.0 eps 0.01\n",
      "episode  7300 score  -210.0 eps 0.01\n",
      "episode  7400 score  -500.0 eps 0.01\n",
      "episode  7500 score  -101.0 eps 0.01\n",
      "episode  7600 score  -150.0 eps 0.01\n",
      "episode  7700 score  -160.0 eps 0.01\n",
      "episode  7800 score  -134.0 eps 0.01\n",
      "episode  7900 score  -153.0 eps 0.01\n",
      "episode  8000 score  -184.0 eps 0.01\n",
      "episode  8100 score  -206.0 eps 0.01\n",
      "episode  8200 score  -183.0 eps 0.01\n",
      "episode  8300 score  -178.0 eps 0.01\n",
      "episode  8400 score  -151.0 eps 0.01\n",
      "episode  8500 score  -153.0 eps 0.01\n",
      "episode  8600 score  -94.0 eps 0.01\n",
      "episode  8700 score  -131.0 eps 0.01\n",
      "episode  8800 score  -106.0 eps 0.01\n",
      "episode  8900 score  -136.0 eps 0.01\n",
      "episode  9000 score  -191.0 eps 0.01\n",
      "episode  9100 score  -130.0 eps 0.01\n",
      "episode  9200 score  -132.0 eps 0.01\n",
      "episode  9300 score  -148.0 eps 0.01\n",
      "episode  9400 score  -205.0 eps 0.01\n",
      "episode  9500 score  -319.0 eps 0.01\n",
      "episode  9600 score  -137.0 eps 0.01\n",
      "episode  9700 score  -101.0 eps 0.01\n",
      "episode  9800 score  -234.0 eps 0.01\n",
      "episode  9900 score  -131.0 eps 0.01\n"
     ]
    },
    {
     "data": {
      "image/png": "[encoded data removed]",
      "text/plain": [
       "<Figure size 432x288 with 1 Axes>"
      ]
     },
     "metadata": {
      "needs_background": "light"
     },
     "output_type": "display_data"
    }
   ],
   "source": [
    "total_rewards = np.zeros(n_games)\n",
    "eps_rewards = 0\n",
    "for i in range(n_games):\n",
    "    if i % 100 == 0:\n",
    "        print('episode ', i, 'score ', eps_rewards, 'eps', eps)\n",
    "    observation = env.reset()\n",
    "    state = get_state(observation)\n",
    "    done = False\n",
    "    action = env.action_space.sample() if np.random.random() < eps else maxAction(Q, state)\n",
    "    eps_rewards = 0\n",
    "    while not done:\n",
    "        observation_, reward, done, info = env.step(action)\n",
    "        state_ = get_state(observation_)\n",
    "        action_ = maxAction(Q, state_)\n",
    "        eps_rewards += reward\n",
    "        Q[state, action] = Q[state,action] + alpha*(reward + gamma*Q[state_,action_] - Q[state,action])\n",
    "        state = state_\n",
    "        action = action_\n",
    "        \n",
    "    total_rewards[i] = eps_rewards\n",
    "    eps = eps - 4 / n_games if eps > 0.01 else 0.01\n",
    "mean_rewards = np.zeros(n_games)\n",
    "for t in range(n_games):\n",
    "    mean_rewards[t] = np.mean(total_rewards[max(0, t-50):(t+1)])\n",
    "plt.plot(mean_rewards)\n",
    "plt.show()\n"
   ]
  },
  {
   "cell_type": "code",
   "execution_count": null,
   "metadata": {},
   "outputs": [],
   "source": []
  },
  {
   "cell_type": "code",
   "execution_count": null,
   "metadata": {},
   "outputs": [],
   "source": []
  }
 ],
 "metadata": {
  "kernelspec": {
   "display_name": "Python 3",
   "language": "python",
   "name": "python3"
  },
  "language_info": {
   "codemirror_mode": {
    "name": "ipython",
    "version": 3
   },
   "file_extension": ".py",
   "mimetype": "text/x-python",
   "name": "python",
   "nbconvert_exporter": "python",
   "pygments_lexer": "ipython3",
   "version": "3.8.3"
  }
 },
 "nbformat": 4,
 "nbformat_minor": 4
}
