{
 "cells": [
  {
   "cell_type": "code",
   "execution_count": 1,
   "metadata": {},
   "outputs": [],
   "source": [
    "import numpy as np"
   ]
  },
  {
   "cell_type": "code",
   "execution_count": 2,
   "metadata": {},
   "outputs": [],
   "source": [
    "#!/usr/bin/python\n",
    "# -*- coding: utf-8 -*-\n",
    "ACTION_SPACE = ('U', 'D', 'L', 'R')\n",
    "\n",
    "\n",
    "class Grid:  # Environment\n",
    "\n",
    "    def __init__(self,rows,cols,start):\n",
    "        self.rows = rows\n",
    "        self.cols = cols\n",
    "        self.i = start[0]\n",
    "        self.j = start[1]\n",
    "\n",
    "    def set(self, rewards, actions):\n",
    "\n",
    "        self.rewards = rewards\n",
    "        self.actions = actions\n",
    "\n",
    "    def set_state(self, s):\n",
    "        self.i = s[0]\n",
    "        self.j = s[1]\n",
    "\n",
    "    def current_state(self):\n",
    "        return (self.i, self.j)\n",
    "\n",
    "    def is_terminal(self, s):\n",
    "        return s not in self.actions\n",
    "\n",
    "    def get_next_state(self, s, a):\n",
    "\n",
    "    # this answers: where would I end up if I perform action 'a' in state 's'?\n",
    "\n",
    "        (i, j) = (s[0], s[1])\n",
    "\n",
    "    # if this action moves you somewhere else, then it will be in this dictionary\n",
    "\n",
    "        if a in self.actions[(i, j)]:\n",
    "            if a == 'U':\n",
    "                i -= 1\n",
    "            elif a == 'D':\n",
    "                i += 1\n",
    "            elif a == 'R':\n",
    "                j += 1\n",
    "            elif a == 'L':\n",
    "                j -= 1\n",
    "        return (i, j)\n",
    "\n",
    "    def all_states(self):\n",
    "        return set(self.actions.keys()) | set(self.rewards.keys())\n"
   ]
  },
  {
   "cell_type": "code",
   "execution_count": 3,
   "metadata": {},
   "outputs": [],
   "source": [
    "def standard_grid():\n",
    "\n",
    "  # .  .  .  1\n",
    "  # .  x  . -1\n",
    "  # s  .  .  .\n",
    "\n",
    "    grid = Grid(3, 4, (2, 0))\n",
    "    rewards = {(0, 3): 1, (1, 3): -1}\n",
    "    actions = {\n",
    "        (0, 0): ('D', 'R'),\n",
    "        (0, 1): ('L', 'R'),\n",
    "        (0, 2): ('L', 'D', 'R'),\n",
    "        (1, 0): ('U', 'D'),\n",
    "        (1, 2): ('U', 'D', 'R'),\n",
    "        (2, 0): ('U', 'R'),\n",
    "        (2, 1): ('L', 'R'),\n",
    "        (2, 2): ('L', 'R', 'U'),\n",
    "        (2, 3): ('L', 'U'),\n",
    "        }\n",
    "    grid.set(rewards, actions)\n",
    "    return grid"
   ]
  },
  {
   "cell_type": "code",
   "execution_count": 4,
   "metadata": {},
   "outputs": [],
   "source": [
    "def print_values(V, g):\n",
    "    for i in range(g.rows):\n",
    "        print(\"---------------------------\")\n",
    "        for j in range(g.cols):\n",
    "            v = V.get((i, j), 0)\n",
    "            if v >= 0:\n",
    "                print(\" %.2f|\" % v, end=\"\")\n",
    "            else:\n",
    "                print(\"%.2f|\" % v, end=\"\")  \n",
    "        print(\"\")\n",
    "\n",
    "\n",
    "def print_policy(P, g):\n",
    "    for i in range(g.rows):\n",
    "        print(\"---------------------------\")\n",
    "        for j in range(g.cols):\n",
    "            a = P.get((i, j), \" \")\n",
    "            print(\"  %s  |\" % a, end=\"\")\n",
    "        print(\"\")\n"
   ]
  },
  {
   "cell_type": "code",
   "execution_count": 7,
   "metadata": {},
   "outputs": [
    {
     "name": "stdout",
     "output_type": "stream",
     "text": [
      "{((0, 2), 'R', (0, 3)): 1, ((1, 2), 'R', (1, 3)): -1, ((2, 3), 'U', (1, 3)): -1}\n",
      "---------------\n",
      "{((0, 0), 'U', (0, 0)): 1, ((0, 0), 'D', (1, 0)): 1, ((0, 0), 'L', (0, 0)): 1, ((0, 0), 'R', (0, 1)): 1, ((0, 1), 'U', (0, 1)): 1, ((0, 1), 'D', (0, 1)): 1, ((0, 1), 'L', (0, 0)): 1, ((0, 1), 'R', (0, 2)): 1, ((0, 2), 'U', (0, 2)): 1, ((0, 2), 'D', (1, 2)): 1, ((0, 2), 'L', (0, 1)): 1, ((0, 2), 'R', (0, 3)): 1, ((1, 0), 'U', (0, 0)): 1, ((1, 0), 'D', (2, 0)): 1, ((1, 0), 'L', (1, 0)): 1, ((1, 0), 'R', (1, 0)): 1, ((1, 2), 'U', (0, 2)): 1, ((1, 2), 'D', (2, 2)): 1, ((1, 2), 'L', (1, 2)): 1, ((1, 2), 'R', (1, 3)): 1, ((2, 0), 'U', (1, 0)): 1, ((2, 0), 'D', (2, 0)): 1, ((2, 0), 'L', (2, 0)): 1, ((2, 0), 'R', (2, 1)): 1, ((2, 1), 'U', (2, 1)): 1, ((2, 1), 'D', (2, 1)): 1, ((2, 1), 'L', (2, 0)): 1, ((2, 1), 'R', (2, 2)): 1, ((2, 2), 'U', (1, 2)): 1, ((2, 2), 'D', (2, 2)): 1, ((2, 2), 'L', (2, 1)): 1, ((2, 2), 'R', (2, 3)): 1, ((2, 3), 'U', (1, 3)): 1, ((2, 3), 'D', (2, 3)): 1, ((2, 3), 'L', (2, 2)): 1, ((2, 3), 'R', (2, 3)): 1}\n"
     ]
    }
   ],
   "source": [
    "transition_probs = {}\n",
    "rewards = {}\n",
    "\n",
    "for row in range(grid.rows):\n",
    "    for col in range(grid.cols):\n",
    "        state = (row, col)\n",
    "        if not grid.is_terminal(state):\n",
    "            for action in ACTION_SPACE:\n",
    "                next_state = grid.get_next_state(state, action)\n",
    "                transition_probs[(state, action, next_state)] = 1\n",
    "                if next_state in grid.rewards:\n",
    "                    rewards[(state, action, next_state)] = grid.rewards[next_state]\n",
    "\n",
    "\n",
    "print(rewards)\n",
    "print(\"---------------\")\n",
    "print(transition_probs)"
   ]
  },
  {
   "cell_type": "code",
   "execution_count": 14,
   "metadata": {},
   "outputs": [
    {
     "name": "stdout",
     "output_type": "stream",
     "text": [
      "---------------------------\n",
      "  R  |  U  |  L  |     |\n",
      "---------------------------\n",
      "  U  |     |  R  |     |\n",
      "---------------------------\n",
      "  D  |  L  |  U  |  D  |\n"
     ]
    }
   ],
   "source": [
    "grid = standard_grid()\n",
    "\n",
    "### fixed policy ###\n",
    "policy = {}\n",
    "for state in grid.actions.keys():\n",
    "    policy[state] = np.random.choice(ACTION_SPACE)\n",
    "print_policy(policy, grid)"
   ]
  },
  {
   "cell_type": "code",
   "execution_count": 15,
   "metadata": {},
   "outputs": [
    {
     "name": "stdout",
     "output_type": "stream",
     "text": [
      "---------------------------\n",
      " 0.00| 0.00| 0.00| 0.00|\n",
      "---------------------------\n",
      " 0.00| 0.00| 0.00| 0.00|\n",
      "---------------------------\n",
      " 0.00| 0.00| 0.00| 0.00|\n"
     ]
    }
   ],
   "source": [
    "# initialize V(s) = 0\n",
    "V = {}\n",
    "for s in grid.all_states():\n",
    "    V[s] = 0\n",
    "\n",
    "print_values(V, grid)"
   ]
  },
  {
   "cell_type": "code",
   "execution_count": 16,
   "metadata": {},
   "outputs": [
    {
     "name": "stdout",
     "output_type": "stream",
     "text": [
      "number of itteration\n",
      "24\n",
      "values:\n",
      "---------------------------\n",
      " 2.99| 3.32| 3.69| 2.99|\n",
      "---------------------------\n",
      " 2.69| 0.00| 3.32| 2.69|\n",
      "---------------------------\n",
      " 2.42| 2.69| 2.99| 2.69|\n",
      "policy:\n",
      "---------------------------\n",
      "  R  |  R  |  R  |     |\n",
      "---------------------------\n",
      "  U  |     |  U  |     |\n",
      "---------------------------\n",
      "  U  |  R  |  U  |  L  |\n"
     ]
    }
   ],
   "source": [
    "it = 0\n",
    "SMALL_ENOUGH = 1e-3\n",
    "GAMMA = 0.9\n",
    "\n",
    "while True:\n",
    "    biggest_change = 0\n",
    "    for s in grid.all_states():\n",
    "        if not grid.is_terminal(s):\n",
    "            old_v = V[s]\n",
    "            new_v = float('-inf')\n",
    "\n",
    "        for a in ACTION_SPACE:\n",
    "            v = 0\n",
    "            for s2 in grid.all_states():\n",
    "                r = rewards.get((s, a, s2), 0)\n",
    "                v += transition_probs.get((s, a, s2), 0) * (r + GAMMA * V[s2])\n",
    "\n",
    "            # keep v if it's better\n",
    "            if v > new_v:\n",
    "                new_v = v\n",
    "\n",
    "        V[s] = new_v\n",
    "        biggest_change = max(biggest_change, np.abs(old_v - V[s]))\n",
    "\n",
    "    it += 1\n",
    "    if biggest_change < SMALL_ENOUGH:\n",
    "        break\n",
    "\n",
    "# find a policy that leads to optimal value function\n",
    "policy = {}\n",
    "for s in grid.actions.keys():\n",
    "    best_a = None\n",
    "    best_value = float('-inf')\n",
    "    # loop through all possible actions to find the best current action\n",
    "    for a in ACTION_SPACE:\n",
    "        v = 0\n",
    "        for s2 in grid.all_states():\n",
    "            # reward is a function of (s, a, s'), 0 if not specified\n",
    "            r = rewards.get((s, a, s2), 0)\n",
    "            v += transition_probs.get((s, a, s2), 0) * (r + GAMMA * V[s2])\n",
    "\n",
    "  # best_a is the action associated with best_value\n",
    "        if v > best_value:\n",
    "            best_value = v\n",
    "            best_a = a\n",
    "    policy[s] = best_a\n",
    "\n",
    "# our goal here is to verify that we get the same answer as with policy iteration\n",
    "print(\"number of itteration\")\n",
    "print(it)\n",
    "print(\"values:\")\n",
    "print_values(V, grid)\n",
    "print(\"policy:\")\n",
    "print_policy(policy, grid)"
   ]
  },
  {
   "cell_type": "code",
   "execution_count": null,
   "metadata": {},
   "outputs": [],
   "source": []
  }
 ],
 "metadata": {
  "kernelspec": {
   "display_name": "Python 3",
   "language": "python",
   "name": "python3"
  },
  "language_info": {
   "codemirror_mode": {
    "name": "ipython",
    "version": 3
   },
   "file_extension": ".py",
   "mimetype": "text/x-python",
   "name": "python",
   "nbconvert_exporter": "python",
   "pygments_lexer": "ipython3",
   "version": "3.8.3"
  }
 },
 "nbformat": 4,
 "nbformat_minor": 4
}
